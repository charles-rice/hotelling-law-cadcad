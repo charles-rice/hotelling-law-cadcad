{
  "nbformat": 4,
  "nbformat_minor": 0,
  "metadata": {
    "colab": {
      "name": "hoteling.ipynb",
      "provenance": [],
      "collapsed_sections": []
    },
    "kernelspec": {
      "name": "python3",
      "display_name": "Python 3"
    },
    "language_info": {
      "name": "python"
    }
  },
  "cells": [
    {
      "cell_type": "code",
      "metadata": {
        "id": "jZDKRa5P9-gP"
      },
      "source": [
        "# Reference netlogo model: https://www.netlogoweb.org/launch#https://www.netlogoweb.org/assets/modelslib/Sample%20Models/Social%20Science/Economics/Hotelling's%20Law.nlogo\n",
        "# i = store\n",
        "# color of the square = min(distance_i + price_i)\n",
        "\n",
        "\n",
        "\n",
        "\"\"\"\n",
        "For each timestep:\n",
        "1. Compute metrics (revenue / area)\n",
        "1. Compute the color of the squares\n",
        "2. For each store, compute candidate actions (action: price up / price down / move up / move down)\n",
        "3. For each store, move to the candidate actions if marginally profitable\n",
        "\n",
        "## Actions\n",
        "\n",
        "- Price Up: current_price * (1 + change_price_param)\n",
        "- Price down: current_price * (1 - change_price_param)\n",
        "- Move up: position + 1\n",
        "- Move down: position - 1\n",
        "\"\"\""
      ],
      "execution_count": null,
      "outputs": []
    },
    {
      "cell_type": "code",
      "metadata": {
        "id": "Qzl1HEXN_R3M"
      },
      "source": [
        "# TODO sort out initialization logic\n",
        "\n",
        "\n",
        "state_variables = {\n",
        "    # Metrics\n",
        "    'areas_per_store': None,\n",
        "    'revenues_per_store': None,\n",
        "    'colors_per_store': None,\n",
        "\n",
        "    # Fundamental Variables\n",
        "    'prices_per_store': None,\n",
        "    'positions_per_store': None,\n",
        "}\n",
        "\n",
        "\n",
        "params = {\n",
        "    'price_sensitivity': None\n",
        "}\n",
        "\n",
        "partial_state_update_blocks = [\n",
        "  { \n",
        "      'label': 'Compute Metrics', \n",
        "      'policies': {\n",
        "          \n",
        "      },\n",
        "      'variables': {\n",
        "          'areas_per_store': None,\n",
        "          'revenues_per_store': None,\n",
        "          'colors_per_store': None\n",
        "          \n",
        "      }\n",
        "  },\n",
        "  { \n",
        "      'label': 'Perform Store Actions', \n",
        "      'policies': {\n",
        "          \n",
        "      },\n",
        "      'variables': {\n",
        "          'positions_per_store': None,\n",
        "          'prices_per_store': None,  \n",
        "      }\n",
        "  }\n",
        "]"
      ],
      "execution_count": null,
      "outputs": []
    },
    {
      "cell_type": "code",
      "metadata": {
        "id": "7FBjZN3x_R76"
      },
      "source": [
        ""
      ],
      "execution_count": null,
      "outputs": []
    }
  ]
}